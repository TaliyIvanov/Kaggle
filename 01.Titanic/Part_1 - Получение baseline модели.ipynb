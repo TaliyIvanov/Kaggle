{
 "cells": [
  {
   "cell_type": "markdown",
   "id": "d25e02cb",
   "metadata": {},
   "source": [
    "### Step_1 - Подготовка к работе (Preparation for work)"
   ]
  },
  {
   "cell_type": "code",
   "execution_count": 74,
   "id": "c24f346c",
   "metadata": {},
   "outputs": [],
   "source": [
    "import pandas as pd\n",
    "\n",
    "from matplotlib import pyplot as plt\n",
    "import seaborn as sns"
   ]
  },
  {
   "cell_type": "code",
   "execution_count": 75,
   "id": "140ac67a",
   "metadata": {},
   "outputs": [],
   "source": [
    "#Путь к данным\n",
    "train_df = pd.read_csv('train.csv')\n",
    "test_df = pd.read_csv('test.csv')"
   ]
  },
  {
   "cell_type": "markdown",
   "id": "5558ff55",
   "metadata": {},
   "source": [
    "### Step_2 - Работа с данными (Exploratory data analysis)"
   ]
  },
  {
   "cell_type": "code",
   "execution_count": 76,
   "id": "5ada8e38",
   "metadata": {},
   "outputs": [
    {
     "name": "stdout",
     "output_type": "stream",
     "text": [
      "<class 'pandas.core.frame.DataFrame'>\n",
      "RangeIndex: 891 entries, 0 to 890\n",
      "Data columns (total 12 columns):\n",
      " #   Column       Non-Null Count  Dtype  \n",
      "---  ------       --------------  -----  \n",
      " 0   PassengerId  891 non-null    int64  \n",
      " 1   Survived     891 non-null    int64  \n",
      " 2   Pclass       891 non-null    int64  \n",
      " 3   Name         891 non-null    object \n",
      " 4   Sex          891 non-null    object \n",
      " 5   Age          714 non-null    float64\n",
      " 6   SibSp        891 non-null    int64  \n",
      " 7   Parch        891 non-null    int64  \n",
      " 8   Ticket       891 non-null    object \n",
      " 9   Fare         891 non-null    float64\n",
      " 10  Cabin        204 non-null    object \n",
      " 11  Embarked     889 non-null    object \n",
      "dtypes: float64(2), int64(5), object(5)\n",
      "memory usage: 83.7+ KB\n"
     ]
    }
   ],
   "source": [
    "#Анализ данных\n",
    "train_df.info()"
   ]
  },
  {
   "cell_type": "code",
   "execution_count": 77,
   "id": "731534a6",
   "metadata": {},
   "outputs": [
    {
     "data": {
      "text/plain": [
       "PassengerId      0\n",
       "Survived         0\n",
       "Pclass           0\n",
       "Name             0\n",
       "Sex              0\n",
       "Age            177\n",
       "SibSp            0\n",
       "Parch            0\n",
       "Ticket           0\n",
       "Fare             0\n",
       "Cabin          687\n",
       "Embarked         2\n",
       "dtype: int64"
      ]
     },
     "execution_count": 77,
     "metadata": {},
     "output_type": "execute_result"
    }
   ],
   "source": [
    "#Посчитаем количество пропущенных значений в наших исходных данных\n",
    "train_df.isnull().sum()"
   ]
  },
  {
   "cell_type": "markdown",
   "id": "cc832893",
   "metadata": {},
   "source": [
    "Видно, что нет многих данных о возрасте пассажира(177/889=0,199) и номере каюты(687/889=0,772). Предположительное решение: Данные о возрасте пассажира я бы заменил на медианные значения. Все таки пропущено только около 20% данных.\n",
    "\n",
    "А вот данные о каюте я исключу. Безусловно, узнав местоположение каюты можно улучшить предсказание. Т.к. Чем ниже каюта, тем выше вероятность смерти пассажира. Но! Во-первых пропуск данных достаточно большой, около 77%. Во-вторых я новичок. Пока не обладаю достаточным набором знаний для заполнения пропущенных данных. Но вообще думаю возможно было бы обучить модель предсказывать/сортировать пассажиров по каютам по их билету и классу. Все таки номера билетов наверняка могут сказать расположении в классе(эконом,комфорт,бизнес). Да, человек может попасать в эконом класс и быть ближе к трюму. Вопрос в том, насколько глубоко он был относительно палубы. В будущем поищу подобную информацию об этом."
   ]
  },
  {
   "cell_type": "code",
   "execution_count": 78,
   "id": "a45d8f5b",
   "metadata": {},
   "outputs": [],
   "source": [
    "#Отбросим данные об имени (оно никак не поможет понять выживет человек или нет)\n",
    "#Так же отбросим каюту, билет, номерпассажира)\n",
    "#Порт в котором пассажир садился так же роли не играет Embarked\n",
    "useless_columns = ['Name','Ticket','Cabin','Embarked']\n",
    "\n",
    "train_clean = train_df.drop(columns=useless_columns)\n",
    "test_clean = test_df.drop(columns=useless_columns)"
   ]
  },
  {
   "cell_type": "markdown",
   "id": "427cdd1c",
   "metadata": {},
   "source": [
    "#### Заполнение пропусков в данных"
   ]
  },
  {
   "cell_type": "code",
   "execution_count": 79,
   "id": "d608ec24",
   "metadata": {},
   "outputs": [],
   "source": [
    "#imputing - заполнение пропущенных данных\n",
    "#данная функция заполняет категориальные переменные модой(наиболее часто встречающееся)\n",
    "#а количественные переменные медианой\n",
    "\n",
    "def impute_data(df):\n",
    "    df_copy = df.copy() # копируем, чтобы не изменить оригинальные данные\n",
    "    \n",
    "    #Заполняем категориальные переменные модой:\n",
    "    categorial_vars = list(df_copy.select_dtypes(include=['object']).columns.values)\n",
    "    for col in categorial_vars:\n",
    "        if(df_copy[col].isnull().values.any()):\n",
    "            df_copy[col].fillna(df_copy[col].mode()[0], inplace = True)\n",
    "            \n",
    "    #заполняем пропущенные значения для количественных переменных медианос по столбцу\n",
    "    numerical_vars = list(df_copy.select_dtypes(include=['int64', 'float64']).columns.values)\n",
    "    for col in numerical_vars:\n",
    "        if(df_copy[col].isnull().values.any()):\n",
    "            df_copy[col].fillna(df_copy[col].median(), inplace = True)\n",
    "            \n",
    "    return df_copy"
   ]
  },
  {
   "cell_type": "code",
   "execution_count": 80,
   "id": "fd1cc058",
   "metadata": {},
   "outputs": [],
   "source": [
    "train_full = impute_data(train_clean)\n",
    "test_full = impute_data(test_clean)"
   ]
  },
  {
   "cell_type": "code",
   "execution_count": 81,
   "id": "05c60170",
   "metadata": {},
   "outputs": [
    {
     "name": "stdout",
     "output_type": "stream",
     "text": [
      "<class 'pandas.core.frame.DataFrame'>\n",
      "RangeIndex: 891 entries, 0 to 890\n",
      "Data columns (total 8 columns):\n",
      " #   Column       Non-Null Count  Dtype  \n",
      "---  ------       --------------  -----  \n",
      " 0   PassengerId  891 non-null    int64  \n",
      " 1   Survived     891 non-null    int64  \n",
      " 2   Pclass       891 non-null    int64  \n",
      " 3   Sex          891 non-null    object \n",
      " 4   Age          891 non-null    float64\n",
      " 5   SibSp        891 non-null    int64  \n",
      " 6   Parch        891 non-null    int64  \n",
      " 7   Fare         891 non-null    float64\n",
      "dtypes: float64(2), int64(5), object(1)\n",
      "memory usage: 55.8+ KB\n"
     ]
    }
   ],
   "source": [
    "#Проверим данные после заполнения\n",
    "train_full.info()"
   ]
  },
  {
   "cell_type": "code",
   "execution_count": 82,
   "id": "05b6cbc1",
   "metadata": {},
   "outputs": [
    {
     "name": "stdout",
     "output_type": "stream",
     "text": [
      "<class 'pandas.core.frame.DataFrame'>\n",
      "RangeIndex: 418 entries, 0 to 417\n",
      "Data columns (total 7 columns):\n",
      " #   Column       Non-Null Count  Dtype  \n",
      "---  ------       --------------  -----  \n",
      " 0   PassengerId  418 non-null    int64  \n",
      " 1   Pclass       418 non-null    int64  \n",
      " 2   Sex          418 non-null    object \n",
      " 3   Age          418 non-null    float64\n",
      " 4   SibSp        418 non-null    int64  \n",
      " 5   Parch        418 non-null    int64  \n",
      " 6   Fare         418 non-null    float64\n",
      "dtypes: float64(2), int64(4), object(1)\n",
      "memory usage: 23.0+ KB\n"
     ]
    }
   ],
   "source": [
    "test_full.info()"
   ]
  },
  {
   "cell_type": "markdown",
   "id": "5d18e82d",
   "metadata": {},
   "source": [
    "#### Визуализация данных"
   ]
  },
  {
   "cell_type": "code",
   "execution_count": 83,
   "id": "d52b405f",
   "metadata": {},
   "outputs": [
    {
     "name": "stderr",
     "output_type": "stream",
     "text": [
      "C:\\Users\\user\\anaconda3\\lib\\site-packages\\seaborn\\_decorators.py:36: FutureWarning: Pass the following variable as a keyword arg: x. From version 0.12, the only valid positional argument will be `data`, and passing other arguments without an explicit keyword will result in an error or misinterpretation.\n",
      "  warnings.warn(\n"
     ]
    },
    {
     "data": {
      "image/png": "[encoded data removed]",
      "text/plain": [
       "<Figure size 411.875x360 with 1 Axes>"
      ]
     },
     "metadata": {
      "needs_background": "light"
     },
     "output_type": "display_data"
    }
   ],
   "source": [
    "#зависимость смертности от пола\n",
    "sns.catplot('Sex', data=train_full, hue='Survived', kind = 'count');\n",
    "#Если ты - мужчина, плывущий на Титанике, скорее всего ты умрешь =)))"
   ]
  },
  {
   "cell_type": "code",
   "execution_count": 84,
   "id": "2659faa9",
   "metadata": {},
   "outputs": [
    {
     "name": "stderr",
     "output_type": "stream",
     "text": [
      "C:\\Users\\user\\anaconda3\\lib\\site-packages\\seaborn\\_decorators.py:36: FutureWarning: Pass the following variable as a keyword arg: x. From version 0.12, the only valid positional argument will be `data`, and passing other arguments without an explicit keyword will result in an error or misinterpretation.\n",
      "  warnings.warn(\n"
     ]
    },
    {
     "data": {
      "image/png": "[encoded data removed]",
      "text/plain": [
       "<Figure size 411.875x360 with 1 Axes>"
      ]
     },
     "metadata": {
      "needs_background": "light"
     },
     "output_type": "display_data"
    }
   ],
   "source": [
    "#зависимость смертности от достатка пассажира (каким классом плыл пассажир)\n",
    "sns.catplot('Pclass', data=train_full, hue = 'Survived', kind = 'count');\n",
    "#Если ты имеешь низкий уровень достатка, вероятнее всего, ты тоже умрешь =)\n",
    "#Ну если серьезно, то чем выше класс, тем каюты находятся выше\n",
    "#Соответственно при столкновении те, кто был ниже уровня палубы затонули быстрее(((("
   ]
  },
  {
   "cell_type": "code",
   "execution_count": 85,
   "id": "282b7b45",
   "metadata": {},
   "outputs": [
    {
     "name": "stderr",
     "output_type": "stream",
     "text": [
      "C:\\Users\\user\\anaconda3\\lib\\site-packages\\seaborn\\_decorators.py:36: FutureWarning: Pass the following variable as a keyword arg: x. From version 0.12, the only valid positional argument will be `data`, and passing other arguments without an explicit keyword will result in an error or misinterpretation.\n",
      "  warnings.warn(\n"
     ]
    },
    {
     "data": {
      "image/png": "[encoded data removed]",
      "text/plain": [
       "<Figure size 360x360 with 1 Axes>"
      ]
     },
     "metadata": {
      "needs_background": "light"
     },
     "output_type": "display_data"
    }
   ],
   "source": [
    "#Опять же пассажиров 3его класса было больше всего\n",
    "sns.catplot('Pclass', data=train_full, kind='count');"
   ]
  },
  {
   "cell_type": "code",
   "execution_count": 86,
   "id": "35454b00",
   "metadata": {},
   "outputs": [
    {
     "name": "stderr",
     "output_type": "stream",
     "text": [
      "C:\\Users\\user\\anaconda3\\lib\\site-packages\\seaborn\\_decorators.py:36: FutureWarning: Pass the following variable as a keyword arg: x. From version 0.12, the only valid positional argument will be `data`, and passing other arguments without an explicit keyword will result in an error or misinterpretation.\n",
      "  warnings.warn(\n"
     ]
    },
    {
     "data": {
      "image/png": "[encoded data removed]",
      "text/plain": [
       "<Figure size 430.5x360 with 1 Axes>"
      ]
     },
     "metadata": {
      "needs_background": "light"
     },
     "output_type": "display_data"
    }
   ],
   "source": [
    "#Так же бедных мужчин было все, Леонардо наверное не смог залезть на дверь, т.к. он бедный и мужчина\n",
    "sns.catplot('Pclass', data=train_full, hue='Sex', kind='count');"
   ]
  },
  {
   "cell_type": "code",
   "execution_count": 87,
   "id": "a521c1e0",
   "metadata": {},
   "outputs": [
    {
     "data": {
      "image/png": "[encoded data removed]",
      "text/plain": [
       "<Figure size 1080x360 with 3 Axes>"
      ]
     },
     "metadata": {
      "needs_background": "light"
     },
     "output_type": "display_data"
    }
   ],
   "source": [
    "#Выживших среди них было меньше всего\n",
    "sns.catplot(x='Sex', y='Survived', col='Pclass', data=train_full, kind='bar');"
   ]
  },
  {
   "cell_type": "code",
   "execution_count": 88,
   "id": "a04aa780",
   "metadata": {},
   "outputs": [
    {
     "name": "stderr",
     "output_type": "stream",
     "text": [
      "C:\\Users\\user\\anaconda3\\lib\\site-packages\\seaborn\\_decorators.py:36: FutureWarning: Pass the following variable as a keyword arg: x. From version 0.12, the only valid positional argument will be `data`, and passing other arguments without an explicit keyword will result in an error or misinterpretation.\n",
      "  warnings.warn(\n"
     ]
    },
    {
     "data": {
      "image/png": "[encoded data removed]",
      "text/plain": [
       "<Figure size 411.875x360 with 1 Axes>"
      ]
     },
     "metadata": {
      "needs_background": "light"
     },
     "output_type": "display_data"
    }
   ],
   "source": [
    "#от количества членов семьи так же зависит выживаемость\n",
    "#Здесь это количество супругов+родственников пассажира(признак SibSp)\n",
    "sns.catplot('SibSp', data=train_full, hue = 'Survived', kind='count');"
   ]
  },
  {
   "cell_type": "code",
   "execution_count": 89,
   "id": "f0014f42",
   "metadata": {},
   "outputs": [
    {
     "name": "stderr",
     "output_type": "stream",
     "text": [
      "C:\\Users\\user\\anaconda3\\lib\\site-packages\\seaborn\\_decorators.py:36: FutureWarning: Pass the following variable as a keyword arg: x. From version 0.12, the only valid positional argument will be `data`, and passing other arguments without an explicit keyword will result in an error or misinterpretation.\n",
      "  warnings.warn(\n"
     ]
    },
    {
     "data": {
      "image/png": "[encoded data removed]",
      "text/plain": [
       "<Figure size 411.875x360 with 1 Axes>"
      ]
     },
     "metadata": {
      "needs_background": "light"
     },
     "output_type": "display_data"
    }
   ],
   "source": [
    "#от количества членов семьи так же зависит выживаемость\n",
    "#Здесь это количество детей + родителей пассажира(признак Parch)\n",
    "sns.catplot('Parch', data=train_full, hue = 'Survived', kind='count');"
   ]
  },
  {
   "cell_type": "markdown",
   "id": "57cc41b7",
   "metadata": {},
   "source": [
    "#### Feature Engineering \n",
    "Определив, что количество родственииков влияет на выживыемость пассажира.\n",
    "Объединим эти признаки в один - \"FamilySize\"\n",
    "Данное действие поможет нашей модели лучше обучиться на наших данных."
   ]
  },
  {
   "cell_type": "code",
   "execution_count": 90,
   "id": "2de90723",
   "metadata": {},
   "outputs": [
    {
     "data": {
      "text/html": [
       "<div>\n",
       "<style scoped>\n",
       "    .dataframe tbody tr th:only-of-type {\n",
       "        vertical-align: middle;\n",
       "    }\n",
       "\n",
       "    .dataframe tbody tr th {\n",
       "        vertical-align: top;\n",
       "    }\n",
       "\n",
       "    .dataframe thead th {\n",
       "        text-align: right;\n",
       "    }\n",
       "</style>\n",
       "<table border=\"1\" class=\"dataframe\">\n",
       "  <thead>\n",
       "    <tr style=\"text-align: right;\">\n",
       "      <th></th>\n",
       "      <th>PassengerId</th>\n",
       "      <th>Survived</th>\n",
       "      <th>Pclass</th>\n",
       "      <th>Sex</th>\n",
       "      <th>Age</th>\n",
       "      <th>SibSp</th>\n",
       "      <th>Parch</th>\n",
       "      <th>Fare</th>\n",
       "      <th>Family_size</th>\n",
       "    </tr>\n",
       "  </thead>\n",
       "  <tbody>\n",
       "    <tr>\n",
       "      <th>0</th>\n",
       "      <td>1</td>\n",
       "      <td>0</td>\n",
       "      <td>3</td>\n",
       "      <td>male</td>\n",
       "      <td>22.0</td>\n",
       "      <td>1</td>\n",
       "      <td>0</td>\n",
       "      <td>7.2500</td>\n",
       "      <td>1</td>\n",
       "    </tr>\n",
       "    <tr>\n",
       "      <th>1</th>\n",
       "      <td>2</td>\n",
       "      <td>1</td>\n",
       "      <td>1</td>\n",
       "      <td>female</td>\n",
       "      <td>38.0</td>\n",
       "      <td>1</td>\n",
       "      <td>0</td>\n",
       "      <td>71.2833</td>\n",
       "      <td>1</td>\n",
       "    </tr>\n",
       "    <tr>\n",
       "      <th>2</th>\n",
       "      <td>3</td>\n",
       "      <td>1</td>\n",
       "      <td>3</td>\n",
       "      <td>female</td>\n",
       "      <td>26.0</td>\n",
       "      <td>0</td>\n",
       "      <td>0</td>\n",
       "      <td>7.9250</td>\n",
       "      <td>0</td>\n",
       "    </tr>\n",
       "  </tbody>\n",
       "</table>\n",
       "</div>"
      ],
      "text/plain": [
       "   PassengerId  Survived  Pclass     Sex   Age  SibSp  Parch     Fare  \\\n",
       "0            1         0       3    male  22.0      1      0   7.2500   \n",
       "1            2         1       1  female  38.0      1      0  71.2833   \n",
       "2            3         1       3  female  26.0      0      0   7.9250   \n",
       "\n",
       "   Family_size  \n",
       "0            1  \n",
       "1            1  \n",
       "2            0  "
      ]
     },
     "execution_count": 90,
     "metadata": {},
     "output_type": "execute_result"
    }
   ],
   "source": [
    "#Создаем новую колонку-признак\n",
    "train_full['Family_size'] = train_full['Parch'] + train_full['SibSp']\n",
    "test_full['Family_size'] = test_full['Parch'] + test_full['SibSp']\n",
    "\n",
    "train_full.head(3)"
   ]
  },
  {
   "cell_type": "code",
   "execution_count": 91,
   "id": "b63bbc93",
   "metadata": {},
   "outputs": [
    {
     "name": "stderr",
     "output_type": "stream",
     "text": [
      "C:\\Users\\user\\anaconda3\\lib\\site-packages\\seaborn\\_decorators.py:36: FutureWarning: Pass the following variable as a keyword arg: x. From version 0.12, the only valid positional argument will be `data`, and passing other arguments without an explicit keyword will result in an error or misinterpretation.\n",
      "  warnings.warn(\n"
     ]
    },
    {
     "data": {
      "image/png": "[encoded data removed]",
      "text/plain": [
       "<Figure size 411.875x360 with 1 Axes>"
      ]
     },
     "metadata": {
      "needs_background": "light"
     },
     "output_type": "display_data"
    }
   ],
   "source": [
    "#Новый признак помогает лучше определить случаи, в которых люди выжили\n",
    "sns.catplot('Family_size', data=train_full, hue='Survived', kind='count');"
   ]
  },
  {
   "cell_type": "code",
   "execution_count": 92,
   "id": "95ffc965",
   "metadata": {},
   "outputs": [
    {
     "name": "stderr",
     "output_type": "stream",
     "text": [
      "C:\\Users\\user\\anaconda3\\lib\\site-packages\\seaborn\\_decorators.py:36: FutureWarning: Pass the following variable as a keyword arg: x. From version 0.12, the only valid positional argument will be `data`, and passing other arguments without an explicit keyword will result in an error or misinterpretation.\n",
      "  warnings.warn(\n"
     ]
    },
    {
     "data": {
      "image/png": "[encoded data removed]",
      "text/plain": [
       "<Figure size 430.5x360 with 1 Axes>"
      ]
     },
     "metadata": {
      "needs_background": "light"
     },
     "output_type": "display_data"
    }
   ],
   "source": [
    "#Признак, в большей степени, касается женщин\n",
    "sns.catplot('Family_size', data=train_full, hue='Sex', kind='count');"
   ]
  },
  {
   "cell_type": "markdown",
   "id": "3cecf4a7",
   "metadata": {},
   "source": [
    "#### Сохранение обработанных данных"
   ]
  },
  {
   "cell_type": "code",
   "execution_count": 93,
   "id": "4134b305",
   "metadata": {},
   "outputs": [],
   "source": [
    "#Сохраним обработанные данные в файл, чтобы не потерять изменения.\n",
    "train_full.to_csv('train_imputed.csv')\n",
    "test_full.to_csv('test_imputed.csv')"
   ]
  },
  {
   "cell_type": "markdown",
   "id": "5da80449",
   "metadata": {},
   "source": [
    "#### На основании визуализированных данных сделаем предсказания\n",
    "#### Очень простая baseline-модель (решающий пень, decision stump)"
   ]
  },
  {
   "cell_type": "code",
   "execution_count": 94,
   "id": "a58a4861",
   "metadata": {},
   "outputs": [
    {
     "data": {
      "text/plain": [
       "0       True\n",
       "1      False\n",
       "2      False\n",
       "3       True\n",
       "4      False\n",
       "       ...  \n",
       "413     True\n",
       "414    False\n",
       "415     True\n",
       "416     True\n",
       "417     True\n",
       "Length: 418, dtype: bool"
      ]
     },
     "execution_count": 94,
     "metadata": {},
     "output_type": "execute_result"
    }
   ],
   "source": [
    "#все мужчины, которые плыли в 3ем классе - умерли\n",
    "#таким образом получим булев вектор, содержащий условие\n",
    "(test_full['Sex'] == 'male') & (test_full['Pclass'] == 3)"
   ]
  },
  {
   "cell_type": "code",
   "execution_count": 95,
   "id": "03274996",
   "metadata": {},
   "outputs": [],
   "source": [
    "#Берем мужчин из 3его класса, как вектор предсказаний и говорим, что они не выжили\n",
    "\n",
    "simple_pred = (~((test_full['Sex'] == 'male') & (test_full['Pclass'] == 3))).astype(int).values"
   ]
  },
  {
   "cell_type": "markdown",
   "id": "2ff562f9",
   "metadata": {},
   "source": [
    "#### Оформление результата"
   ]
  },
  {
   "cell_type": "code",
   "execution_count": 96,
   "id": "a0ceab57",
   "metadata": {},
   "outputs": [],
   "source": [
    "#функция для составления submission-файла соревнования\n",
    "def make_prediction_file(prediction, test_data, name):\n",
    "    \n",
    "    result = pd.DataFrame({'PassengerId': test_data.reset_index()['PassengerId'], 'Survived': prediction})\n",
    "    result.to_csv(name, index=False)"
   ]
  },
  {
   "cell_type": "code",
   "execution_count": 97,
   "id": "fb45d7d0",
   "metadata": {},
   "outputs": [],
   "source": [
    "make_prediction_file(simple_pred, test_full,'titanic_simple_baseline.csv')"
   ]
  },
  {
   "cell_type": "markdown",
   "id": "5d502816",
   "metadata": {},
   "source": [
    "### ИТОГ\n",
    "1 - Необходимо найти данные для работы\n",
    "\n",
    "2 - Загрузка данных и их анализ.\n",
    "\n",
    "3 - Проверка данных на наличие пропусков. Пропущенные данные необходимо заполнить. Неинформативные данные необходимо исключить.\n",
    "\n",
    "4 - Визуализация данных. Необходима для того, чтобы было проще найти закономерности в данных.\n",
    "\n",
    "5 - Создание нового признака, а лучше нескольких. (Визуализация может с этим помочь).\n",
    "\n",
    "6 - На основании такого изучения возможно сделать первоначальные выводы, наброски решения.\n",
    "\n",
    "\n",
    "Резюме: мы получили решающий пень - базовая baseline-модель. В ручную, благодаря  визуальному анализу отобрали признаки, которые помогли с 60% вероятность определить выживаемость пассажира. \n",
    "\n",
    "В следующей части буду использовать уже \"настоящий\" алгоритм машинного обучения - Decision Tree."
   ]
  }
 ],
 "metadata": {
  "kernelspec": {
   "display_name": "Python 3 (ipykernel)",
   "language": "python",
   "name": "python3"
  },
  "language_info": {
   "codemirror_mode": {
    "name": "ipython",
    "version": 3
   },
   "file_extension": ".py",
   "mimetype": "text/x-python",
   "name": "python",
   "nbconvert_exporter": "python",
   "pygments_lexer": "ipython3",
   "version": "3.9.12"
  }
 },
 "nbformat": 4,
 "nbformat_minor": 5
}
